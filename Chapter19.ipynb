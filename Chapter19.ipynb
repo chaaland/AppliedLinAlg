{
 "cells": [
  {
   "cell_type": "code",
   "execution_count": null,
   "metadata": {},
   "outputs": [],
   "source": [
    "using PyPlot;"
   ]
  },
  {
   "cell_type": "code",
   "execution_count": null,
   "metadata": {},
   "outputs": [],
   "source": [
    "include(\"src/utils.jl\");"
   ]
  },
  {
   "cell_type": "markdown",
   "metadata": {},
   "source": [
    "# Problem 19.1 #"
   ]
  },
  {
   "cell_type": "markdown",
   "metadata": {},
   "source": [
    "Consider the problem of finding the point on a curve closest to (1,1,1). Specifically, the optimization problem \n",
    "\n",
    "\\begin{align*}\n",
    "\\text{minimize }&\\quad (x_1-1)^2 +(x_2-1)^2 +(x_3-1)^2\\\\\n",
    "\\text{subject to }&\\quad x_1^2+0.5x_2^2+x_3^2-1 = 0\\\\\n",
    "&\\quad 0.8x_1^2+2.5x_2^2+x_3^2+2x_1x_3-x_1-x_2-x_3-1 = 0\n",
    "\\end{align*}"
   ]
  },
  {
   "cell_type": "markdown",
   "metadata": {},
   "source": [
    "Equivalently the problem can be written as \n",
    "\n",
    "$$\n",
    "\\begin{align*}\n",
    "    \\text{minimize }&\\quad f(x)\\\\\n",
    "    \\text{subject to }&\\quad g(x) = 0\n",
    "\\end{align*}\n",
    "$$\n",
    "where $f : \\mathbf{R} \\rightarrow \\mathbf{R}$ and $g : \\mathbf{R}^3 \\rightarrow \\mathbf{R}^2$. The Jacobians are given by \n",
    "\n",
    "$$\n",
    "\\begin{align*}\n",
    "    Df = \\begin{bmatrix}\n",
    "        2(x_1-1) & 2(x_2-1) & 2(x_3-1)\n",
    "    \\end{bmatrix}\\quad\n",
    "    Dg = \\begin{bmatrix}\n",
    "        2x_1 & x_2 & 2x_3\\\\\n",
    "        1.6x_1+2x_3-1 & 5x_2-1 & 3x_3+2x_1-1\n",
    "    \\end{bmatrix}\n",
    "\\end{align*}\n",
    "$$"
   ]
  },
  {
   "cell_type": "code",
   "execution_count": 21,
   "metadata": {},
   "outputs": [
    {
     "data": {
      "text/plain": [
       "g_jacobian (generic function with 1 method)"
      ]
     },
     "execution_count": 21,
     "metadata": {},
     "output_type": "execute_result"
    }
   ],
   "source": [
    "function f(x::Vector{T}) where T <: Real\n",
    "    return sum((x - vec(ones(3))).^2)\n",
    "end\n",
    "\n",
    "function f_jacobian(x::Vector{T}) where T <: Real\n",
    "    return 2 * (x-1)';\n",
    "end\n",
    "\n",
    "function g(x::Vector{T}) where T <: Real\n",
    "    squared_input = x.^2;\n",
    "    g1 = sum(squared_input .* (vec([1 0.5 1]))) - 1;\n",
    "    g2 = sum(squared_input .* vec([0.8 2.5 1])) + 2 * x[1] * x[3] - sum(x) - 1;\n",
    "    return vcat(g1,g2);\n",
    "end\n",
    "\n",
    "function g_jacobian(x::Vector{T}) where T <: Real\n",
    "    g1_deriv = vec([2 1 2]) .* x;\n",
    "    g2_deriv = vec([1.6 5 3]) .* x + vec([2*x[3] 0 2*x[1]]) - 1;\n",
    "    return hcat(g1_deriv, g2_deriv)'\n",
    "end"
   ]
  },
  {
   "cell_type": "code",
   "execution_count": null,
   "metadata": {},
   "outputs": [],
   "source": [
    "penalty_algo((3,3), f::Function, J1::Function, g::Function, J2::Function; xinit=Inf, max_iters=1000"
   ]
  }
 ],
 "metadata": {
  "kernelspec": {
   "display_name": "Julia 0.6.2",
   "language": "julia",
   "name": "julia-0.6"
  },
  "language_info": {
   "file_extension": ".jl",
   "mimetype": "application/julia",
   "name": "julia",
   "version": "0.6.2"
  }
 },
 "nbformat": 4,
 "nbformat_minor": 2
}
